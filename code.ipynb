{
 "cells": [
  {
   "cell_type": "code",
   "execution_count": 77,
   "id": "21487172",
   "metadata": {},
   "outputs": [],
   "source": [
    "# import library, pandas to read the dataset and matplotlib to visualize data\n",
    "import pandas as pd\n",
    "import numpy as np\n",
    "import seaborn as sns\n",
    "import matplotlib.pyplot as plt"
   ]
  },
  {
   "cell_type": "markdown",
   "id": "b6c2a3e7",
   "metadata": {},
   "source": [
    "# Collect and Explore The Data"
   ]
  },
  {
   "cell_type": "code",
   "execution_count": 78,
   "id": "1069e033",
   "metadata": {},
   "outputs": [],
   "source": [
    "# read data using pd.read_csv, then store the data in df dataframe\n",
    "df = pd.read_csv('healthcare-dataset-stroke-data.csv')"
   ]
  },
  {
   "cell_type": "code",
   "execution_count": 79,
   "id": "9c586e3d",
   "metadata": {
    "scrolled": true
   },
   "outputs": [
    {
     "name": "stdout",
     "output_type": "stream",
     "text": [
      "<class 'pandas.core.frame.DataFrame'>\n",
      "RangeIndex: 5110 entries, 0 to 5109\n",
      "Data columns (total 12 columns):\n",
      " #   Column             Non-Null Count  Dtype  \n",
      "---  ------             --------------  -----  \n",
      " 0   id                 5110 non-null   int64  \n",
      " 1   gender             5110 non-null   object \n",
      " 2   age                5110 non-null   float64\n",
      " 3   hypertension       5110 non-null   int64  \n",
      " 4   heart_disease      5110 non-null   int64  \n",
      " 5   ever_married       5110 non-null   object \n",
      " 6   work_type          5110 non-null   object \n",
      " 7   Residence_type     5110 non-null   object \n",
      " 8   avg_glucose_level  5110 non-null   float64\n",
      " 9   bmi                4909 non-null   float64\n",
      " 10  smoking_status     5110 non-null   object \n",
      " 11  stroke             5110 non-null   int64  \n",
      "dtypes: float64(3), int64(4), object(5)\n",
      "memory usage: 479.2+ KB\n"
     ]
    }
   ],
   "source": [
    "# explore the data type at each series\n",
    "df.info()"
   ]
  },
  {
   "cell_type": "markdown",
   "id": "56424565",
   "metadata": {},
   "source": [
    "The output of the cell above shows that:\n",
    "The dataframe has 12 features (rows) which are:\n",
    "\n",
    "1. id: which is (int) refers to the unique number for each row (key)\n",
    "2. gender: gender of the patient which is (object) and has one value of \"Male\", \"Female\" or \"Other\"\n",
    "3. age: the age of the patient as a float type\n",
    "4. hypertension:  An (int) number (0 if the patient doesn't have hypertension and 1 if the patient has hypertension}.\n",
    "5. heart_disease: An (int) number (0 if the patient doesn't have any heart diseases and 1 if the patient has a heart disease).\n",
    "6. ever_married: An (object) value contains (\"No\" or \"Yes\")\n",
    "7. work_type: An (object) value contains (\"children\", \"Govt_jov\", \"Never_worked\", \"Private\" or \"Self-employed\")\n",
    "8. Residence_type: An (object) value contains (\"Rural\" or \"Urban\").\n",
    "9. avg_glucose_level: A (float) number represents the average glucose level in blood.\n",
    "10. bmi: A (float) number represents body mass index\n",
    "11. smoking_status : An (object) value contains (\"formerly smoked\", \"never smoked\", \"smokes\" or \"Unknown\").\n",
    "12. stroke: An (int) number (1 if the patient had a stroke, 0 the patient do not have a stroke).\n"
   ]
  },
  {
   "cell_type": "markdown",
   "id": "d47bc25e",
   "metadata": {},
   "source": [
    "# EDA"
   ]
  },
  {
   "cell_type": "code",
   "execution_count": 80,
   "id": "4d307790",
   "metadata": {},
   "outputs": [
    {
     "data": {
      "text/plain": [
       "Index(['id', 'gender', 'age', 'hypertension', 'heart_disease', 'ever_married',\n",
       "       'work_type', 'Residence_type', 'avg_glucose_level', 'bmi',\n",
       "       'smoking_status', 'stroke'],\n",
       "      dtype='object')"
      ]
     },
     "execution_count": 80,
     "metadata": {},
     "output_type": "execute_result"
    }
   ],
   "source": [
    "# chech if there is any problem in column names like spaces after or before\n",
    "df.columns"
   ]
  },
  {
   "cell_type": "code",
   "execution_count": 81,
   "id": "03a2e34b",
   "metadata": {},
   "outputs": [
    {
     "data": {
      "text/plain": [
       "id                     0\n",
       "gender                 0\n",
       "age                    0\n",
       "hypertension           0\n",
       "heart_disease          0\n",
       "ever_married           0\n",
       "work_type              0\n",
       "Residence_type         0\n",
       "avg_glucose_level      0\n",
       "bmi                  201\n",
       "smoking_status         0\n",
       "stroke                 0\n",
       "dtype: int64"
      ]
     },
     "execution_count": 81,
     "metadata": {},
     "output_type": "execute_result"
    }
   ],
   "source": [
    "# check if there are any null values \n",
    "df.isna().sum()"
   ]
  },
  {
   "cell_type": "markdown",
   "id": "9c03592d",
   "metadata": {},
   "source": [
    "As a result of the last cell there are 201 missing values in bmi feature.\n",
    "One way to deal with missing values is to substitute missing values with mean of bmi \n"
   ]
  },
  {
   "cell_type": "code",
   "execution_count": 82,
   "id": "6f919f7b",
   "metadata": {},
   "outputs": [
    {
     "name": "stdout",
     "output_type": "stream",
     "text": [
      "<class 'pandas.core.frame.DataFrame'>\n",
      "RangeIndex: 5110 entries, 0 to 5109\n",
      "Data columns (total 12 columns):\n",
      " #   Column             Non-Null Count  Dtype  \n",
      "---  ------             --------------  -----  \n",
      " 0   id                 5110 non-null   int64  \n",
      " 1   gender             5110 non-null   object \n",
      " 2   age                5110 non-null   float64\n",
      " 3   hypertension       5110 non-null   int64  \n",
      " 4   heart_disease      5110 non-null   int64  \n",
      " 5   ever_married       5110 non-null   object \n",
      " 6   work_type          5110 non-null   object \n",
      " 7   Residence_type     5110 non-null   object \n",
      " 8   avg_glucose_level  5110 non-null   float64\n",
      " 9   bmi                5110 non-null   float64\n",
      " 10  smoking_status     5110 non-null   object \n",
      " 11  stroke             5110 non-null   int64  \n",
      "dtypes: float64(3), int64(4), object(5)\n",
      "memory usage: 479.2+ KB\n"
     ]
    }
   ],
   "source": [
    "df['bmi'] = df['bmi'].fillna(df['bmi'].mean())\n",
    "df.info()"
   ]
  },
  {
   "cell_type": "code",
   "execution_count": 83,
   "id": "6eb37563",
   "metadata": {},
   "outputs": [
    {
     "data": {
      "text/plain": [
       "id                   0\n",
       "gender               0\n",
       "age                  0\n",
       "hypertension         0\n",
       "heart_disease        0\n",
       "ever_married         0\n",
       "work_type            0\n",
       "Residence_type       0\n",
       "avg_glucose_level    0\n",
       "bmi                  0\n",
       "smoking_status       0\n",
       "stroke               0\n",
       "dtype: int64"
      ]
     },
     "execution_count": 83,
     "metadata": {},
     "output_type": "execute_result"
    }
   ],
   "source": [
    "# check to null values again\n",
    "df.isna().sum()"
   ]
  },
  {
   "cell_type": "code",
   "execution_count": 84,
   "id": "fe0f65c2",
   "metadata": {},
   "outputs": [
    {
     "data": {
      "text/plain": [
       "5110"
      ]
     },
     "execution_count": 84,
     "metadata": {},
     "output_type": "execute_result"
    }
   ],
   "source": [
    "# check how many unique id\n",
    "df.id.nunique()"
   ]
  },
  {
   "cell_type": "markdown",
   "id": "aa5a11c9",
   "metadata": {},
   "source": [
    "5110 unique id equal to rows number so I will make sure there are no repeated data then no need to keep id column. "
   ]
  },
  {
   "cell_type": "code",
   "execution_count": 85,
   "id": "8fa81365",
   "metadata": {},
   "outputs": [
    {
     "data": {
      "text/plain": [
       "0"
      ]
     },
     "execution_count": 85,
     "metadata": {},
     "output_type": "execute_result"
    }
   ],
   "source": [
    "# check if there is any duplicated row\n",
    "df.duplicated().sum()"
   ]
  },
  {
   "cell_type": "code",
   "execution_count": 86,
   "id": "0b32bc84",
   "metadata": {},
   "outputs": [],
   "source": [
    "# drop id column from the dataframe\n",
    "df = df.drop('id', axis=1)"
   ]
  },
  {
   "cell_type": "code",
   "execution_count": 87,
   "id": "119d5d99",
   "metadata": {},
   "outputs": [
    {
     "name": "stdout",
     "output_type": "stream",
     "text": [
      "<class 'pandas.core.frame.DataFrame'>\n",
      "RangeIndex: 5110 entries, 0 to 5109\n",
      "Data columns (total 11 columns):\n",
      " #   Column             Non-Null Count  Dtype  \n",
      "---  ------             --------------  -----  \n",
      " 0   gender             5110 non-null   object \n",
      " 1   age                5110 non-null   float64\n",
      " 2   hypertension       5110 non-null   int64  \n",
      " 3   heart_disease      5110 non-null   int64  \n",
      " 4   ever_married       5110 non-null   object \n",
      " 5   work_type          5110 non-null   object \n",
      " 6   Residence_type     5110 non-null   object \n",
      " 7   avg_glucose_level  5110 non-null   float64\n",
      " 8   bmi                5110 non-null   float64\n",
      " 9   smoking_status     5110 non-null   object \n",
      " 10  stroke             5110 non-null   int64  \n",
      "dtypes: float64(3), int64(3), object(5)\n",
      "memory usage: 439.3+ KB\n"
     ]
    }
   ],
   "source": [
    "df.info()"
   ]
  },
  {
   "cell_type": "code",
   "execution_count": 88,
   "id": "dcd01fb3",
   "metadata": {},
   "outputs": [
    {
     "name": "stdout",
     "output_type": "stream",
     "text": [
      "-----------------\n",
      "Female    2994\n",
      "Male      2115\n",
      "Other        1\n",
      "Name: gender, dtype: int64\n",
      "-----------------\n",
      "-----------------\n",
      "78.00    102\n",
      "57.00     95\n",
      "52.00     90\n",
      "54.00     87\n",
      "51.00     86\n",
      "        ... \n",
      "0.48       3\n",
      "1.40       3\n",
      "0.16       3\n",
      "0.08       2\n",
      "0.40       2\n",
      "Name: age, Length: 104, dtype: int64\n",
      "-----------------\n",
      "-----------------\n",
      "0    4612\n",
      "1     498\n",
      "Name: hypertension, dtype: int64\n",
      "-----------------\n",
      "-----------------\n",
      "0    4834\n",
      "1     276\n",
      "Name: heart_disease, dtype: int64\n",
      "-----------------\n",
      "-----------------\n",
      "Yes    3353\n",
      "No     1757\n",
      "Name: ever_married, dtype: int64\n",
      "-----------------\n",
      "-----------------\n",
      "Private          2925\n",
      "Self-employed     819\n",
      "children          687\n",
      "Govt_job          657\n",
      "Never_worked       22\n",
      "Name: work_type, dtype: int64\n",
      "-----------------\n",
      "-----------------\n",
      "Urban    2596\n",
      "Rural    2514\n",
      "Name: Residence_type, dtype: int64\n",
      "-----------------\n",
      "-----------------\n",
      "93.88     6\n",
      "72.49     5\n",
      "84.10     5\n",
      "91.68     5\n",
      "83.16     5\n",
      "         ..\n",
      "95.02     1\n",
      "120.09    1\n",
      "197.58    1\n",
      "99.91     1\n",
      "60.50     1\n",
      "Name: avg_glucose_level, Length: 3979, dtype: int64\n",
      "-----------------\n",
      "-----------------\n",
      "28.893237    201\n",
      "28.700000     41\n",
      "28.400000     38\n",
      "26.700000     37\n",
      "26.100000     37\n",
      "            ... \n",
      "48.000000      1\n",
      "49.400000      1\n",
      "47.400000      1\n",
      "46.600000      1\n",
      "54.000000      1\n",
      "Name: bmi, Length: 419, dtype: int64\n",
      "-----------------\n",
      "-----------------\n",
      "never smoked       1892\n",
      "Unknown            1544\n",
      "formerly smoked     885\n",
      "smokes              789\n",
      "Name: smoking_status, dtype: int64\n",
      "-----------------\n",
      "-----------------\n",
      "0    4861\n",
      "1     249\n",
      "Name: stroke, dtype: int64\n",
      "-----------------\n"
     ]
    }
   ],
   "source": [
    "# go through each features values\n",
    "\n",
    "for col in df.columns:\n",
    "    print(\"-----------------\")\n",
    "    print(df[col].value_counts())\n",
    "    print(\"-----------------\")"
   ]
  },
  {
   "cell_type": "markdown",
   "id": "e07f4c0d",
   "metadata": {},
   "source": [
    "From above we can find that:\n",
    "- gender has one value 'Other'\n",
    "- smoking_status has 1544 'Unknown' values"
   ]
  },
  {
   "cell_type": "markdown",
   "id": "ad4f2c33",
   "metadata": {},
   "source": [
    "The output above shows that there is only one row has the value ('Other') compairing with more than 2100 for each male and female. To solve this outstanding between values we could replace the 'Other' value with mode of other values or remove the whole row. I chose the replacement. In addition, we have two option to deal with unknown values in smoking_status which are removing rows or replace values with mode. I chose the second option."
   ]
  },
  {
   "cell_type": "code",
   "execution_count": 89,
   "id": "bbe76657",
   "metadata": {},
   "outputs": [],
   "source": [
    "# replace 'Other' values with mode\n",
    "df['gender'] = df['gender'].replace('Other', list(df.gender.mode().values)[0])"
   ]
  },
  {
   "cell_type": "code",
   "execution_count": 90,
   "id": "c85ad551",
   "metadata": {},
   "outputs": [
    {
     "data": {
      "text/plain": [
       "Female    2995\n",
       "Male      2115\n",
       "Name: gender, dtype: int64"
      ]
     },
     "execution_count": 90,
     "metadata": {},
     "output_type": "execute_result"
    }
   ],
   "source": [
    "# check gender values again\n",
    "df.gender.value_counts()"
   ]
  },
  {
   "cell_type": "code",
   "execution_count": 91,
   "id": "85c63b34",
   "metadata": {},
   "outputs": [],
   "source": [
    "# replace Unknown value with mode\n",
    "df[\"smoking_status\"].replace(\"Unknown\", df[\"smoking_status\"].mode().values[0], inplace=True)"
   ]
  },
  {
   "cell_type": "code",
   "execution_count": 92,
   "id": "b2675bfa",
   "metadata": {},
   "outputs": [
    {
     "name": "stdout",
     "output_type": "stream",
     "text": [
      "never smoked       3436\n",
      "formerly smoked     885\n",
      "smokes              789\n",
      "Name: smoking_status, dtype: int64\n"
     ]
    }
   ],
   "source": [
    "# check smoking_status values again\n",
    "print(df[\"smoking_status\"].value_counts())"
   ]
  },
  {
   "cell_type": "code",
   "execution_count": 93,
   "id": "ad692952",
   "metadata": {},
   "outputs": [
    {
     "data": {
      "text/html": [
       "<div>\n",
       "<style scoped>\n",
       "    .dataframe tbody tr th:only-of-type {\n",
       "        vertical-align: middle;\n",
       "    }\n",
       "\n",
       "    .dataframe tbody tr th {\n",
       "        vertical-align: top;\n",
       "    }\n",
       "\n",
       "    .dataframe thead th {\n",
       "        text-align: right;\n",
       "    }\n",
       "</style>\n",
       "<table border=\"1\" class=\"dataframe\">\n",
       "  <thead>\n",
       "    <tr style=\"text-align: right;\">\n",
       "      <th></th>\n",
       "      <th>gender</th>\n",
       "      <th>age</th>\n",
       "      <th>hypertension</th>\n",
       "      <th>heart_disease</th>\n",
       "      <th>ever_married</th>\n",
       "      <th>work_type</th>\n",
       "      <th>Residence_type</th>\n",
       "      <th>avg_glucose_level</th>\n",
       "      <th>bmi</th>\n",
       "      <th>smoking_status</th>\n",
       "      <th>stroke</th>\n",
       "    </tr>\n",
       "  </thead>\n",
       "  <tbody>\n",
       "    <tr>\n",
       "      <th>0</th>\n",
       "      <td>Male</td>\n",
       "      <td>67.0</td>\n",
       "      <td>0</td>\n",
       "      <td>1</td>\n",
       "      <td>Yes</td>\n",
       "      <td>Private</td>\n",
       "      <td>Urban</td>\n",
       "      <td>228.69</td>\n",
       "      <td>36.600000</td>\n",
       "      <td>formerly smoked</td>\n",
       "      <td>1</td>\n",
       "    </tr>\n",
       "    <tr>\n",
       "      <th>1</th>\n",
       "      <td>Female</td>\n",
       "      <td>61.0</td>\n",
       "      <td>0</td>\n",
       "      <td>0</td>\n",
       "      <td>Yes</td>\n",
       "      <td>Self-employed</td>\n",
       "      <td>Rural</td>\n",
       "      <td>202.21</td>\n",
       "      <td>28.893237</td>\n",
       "      <td>never smoked</td>\n",
       "      <td>1</td>\n",
       "    </tr>\n",
       "    <tr>\n",
       "      <th>2</th>\n",
       "      <td>Male</td>\n",
       "      <td>80.0</td>\n",
       "      <td>0</td>\n",
       "      <td>1</td>\n",
       "      <td>Yes</td>\n",
       "      <td>Private</td>\n",
       "      <td>Rural</td>\n",
       "      <td>105.92</td>\n",
       "      <td>32.500000</td>\n",
       "      <td>never smoked</td>\n",
       "      <td>1</td>\n",
       "    </tr>\n",
       "    <tr>\n",
       "      <th>3</th>\n",
       "      <td>Female</td>\n",
       "      <td>49.0</td>\n",
       "      <td>0</td>\n",
       "      <td>0</td>\n",
       "      <td>Yes</td>\n",
       "      <td>Private</td>\n",
       "      <td>Urban</td>\n",
       "      <td>171.23</td>\n",
       "      <td>34.400000</td>\n",
       "      <td>smokes</td>\n",
       "      <td>1</td>\n",
       "    </tr>\n",
       "    <tr>\n",
       "      <th>4</th>\n",
       "      <td>Female</td>\n",
       "      <td>79.0</td>\n",
       "      <td>1</td>\n",
       "      <td>0</td>\n",
       "      <td>Yes</td>\n",
       "      <td>Self-employed</td>\n",
       "      <td>Rural</td>\n",
       "      <td>174.12</td>\n",
       "      <td>24.000000</td>\n",
       "      <td>never smoked</td>\n",
       "      <td>1</td>\n",
       "    </tr>\n",
       "  </tbody>\n",
       "</table>\n",
       "</div>"
      ],
      "text/plain": [
       "   gender   age  hypertension  heart_disease ever_married      work_type  \\\n",
       "0    Male  67.0             0              1          Yes        Private   \n",
       "1  Female  61.0             0              0          Yes  Self-employed   \n",
       "2    Male  80.0             0              1          Yes        Private   \n",
       "3  Female  49.0             0              0          Yes        Private   \n",
       "4  Female  79.0             1              0          Yes  Self-employed   \n",
       "\n",
       "  Residence_type  avg_glucose_level        bmi   smoking_status  stroke  \n",
       "0          Urban             228.69  36.600000  formerly smoked       1  \n",
       "1          Rural             202.21  28.893237     never smoked       1  \n",
       "2          Rural             105.92  32.500000     never smoked       1  \n",
       "3          Urban             171.23  34.400000           smokes       1  \n",
       "4          Rural             174.12  24.000000     never smoked       1  "
      ]
     },
     "execution_count": 93,
     "metadata": {},
     "output_type": "execute_result"
    }
   ],
   "source": [
    "# see first rows\n",
    "df.head()"
   ]
  },
  {
   "cell_type": "markdown",
   "id": "333e5187",
   "metadata": {},
   "source": [
    "#  Visualize Data"
   ]
  },
  {
   "cell_type": "markdown",
   "id": "91edec4e",
   "metadata": {},
   "source": [
    "To find out the relation between features and stroke probability"
   ]
  },
  {
   "cell_type": "code",
   "execution_count": 95,
   "id": "6413ede2",
   "metadata": {},
   "outputs": [
    {
     "data": {
      "image/png": "[encoded data removed]",
      "text/plain": [
       "<Figure size 432x288 with 1 Axes>"
      ]
     },
     "metadata": {
      "needs_background": "light"
     },
     "output_type": "display_data"
    }
   ],
   "source": [
    "# gender and stroke\n",
    "df_gender=pd.crosstab(df.gender,df.stroke)\n",
    "df_gender.plot(kind='area')\n",
    "plt.show()"
   ]
  },
  {
   "cell_type": "markdown",
   "id": "2fedfe6b",
   "metadata": {},
   "source": [
    "From the plots above it looks like females have tiny increase that maybe because the dataset has more female entries so we can say that there is no relation between gender and stroke probability"
   ]
  },
  {
   "cell_type": "code",
   "execution_count": 97,
   "id": "44d00f8f",
   "metadata": {},
   "outputs": [
    {
     "data": {
      "image/png": "[encoded data removed]",
      "text/plain": [
       "<Figure size 432x288 with 1 Axes>"
      ]
     },
     "metadata": {
      "needs_background": "light"
     },
     "output_type": "display_data"
    }
   ],
   "source": [
    "# age and stroke\n",
    "df_age=pd.crosstab(df.age,df.stroke)\n",
    "df_age.plot(kind='area')\n",
    "plt.show()"
   ]
  },
  {
   "cell_type": "markdown",
   "id": "56c3533d",
   "metadata": {},
   "source": [
    "From the plots above we can see that as the age increases, the stroke probability increases."
   ]
  },
  {
   "cell_type": "code",
   "execution_count": 98,
   "id": "51f2e077",
   "metadata": {},
   "outputs": [
    {
     "data": {
      "image/png": "[encoded data removed]",
      "text/plain": [
       "<Figure size 432x288 with 1 Axes>"
      ]
     },
     "metadata": {
      "needs_background": "light"
     },
     "output_type": "display_data"
    }
   ],
   "source": [
    "# hypertension and stroke\n",
    "df_hypertension=pd.crosstab(df.hypertension,df.stroke)\n",
    "df_hypertension.plot(kind='area')\n",
    "plt.show()"
   ]
  },
  {
   "cell_type": "markdown",
   "id": "5c25375f",
   "metadata": {},
   "source": [
    "We can see stroke probability incease when heart disease incease "
   ]
  },
  {
   "cell_type": "code",
   "execution_count": 99,
   "id": "8a8c067e",
   "metadata": {},
   "outputs": [
    {
     "data": {
      "image/png": "[encoded data removed]",
      "text/plain": [
       "<Figure size 432x288 with 1 Axes>"
      ]
     },
     "metadata": {
      "needs_background": "light"
     },
     "output_type": "display_data"
    }
   ],
   "source": [
    "# heart disease and stroke\n",
    "df_heart_disease=pd.crosstab(df.heart_disease,df.stroke)\n",
    "df_heart_disease.plot(kind='area')\n",
    "plt.show()"
   ]
  },
  {
   "cell_type": "markdown",
   "id": "521e534f",
   "metadata": {},
   "source": [
    "We can see stroke probability incease when heart disease incease "
   ]
  },
  {
   "cell_type": "code",
   "execution_count": 100,
   "id": "4067654e",
   "metadata": {},
   "outputs": [
    {
     "data": {
      "image/png": "[encoded data removed]",
      "text/plain": [
       "<Figure size 432x288 with 1 Axes>"
      ]
     },
     "metadata": {
      "needs_background": "light"
     },
     "output_type": "display_data"
    }
   ],
   "source": [
    "# ever married and stroke\n",
    "df_ever_married=pd.crosstab(df.ever_married,df.stroke)\n",
    "df_ever_married.plot(kind='area')\n",
    "plt.show()"
   ]
  },
  {
   "cell_type": "markdown",
   "id": "5472986c",
   "metadata": {},
   "source": [
    "From the plot we can say that marriage could increase the stroke probability"
   ]
  },
  {
   "cell_type": "code",
   "execution_count": 102,
   "id": "70efbc80",
   "metadata": {},
   "outputs": [
    {
     "data": {
      "image/png": "[encoded data removed]",
      "text/plain": [
       "<Figure size 432x288 with 1 Axes>"
      ]
     },
     "metadata": {
      "needs_background": "light"
     },
     "output_type": "display_data"
    }
   ],
   "source": [
    "# work type and stroke\n",
    "df_work_type=pd.crosstab(df.work_type,df.stroke)\n",
    "df_work_type.plot(kind='area')\n",
    "plt.show()"
   ]
  },
  {
   "cell_type": "markdown",
   "id": "d8fb77cd",
   "metadata": {},
   "source": [
    "No clear relation between work type and stroke probability"
   ]
  },
  {
   "cell_type": "code",
   "execution_count": 103,
   "id": "8f160471",
   "metadata": {},
   "outputs": [
    {
     "data": {
      "image/png": "[encoded data removed]",
      "text/plain": [
       "<Figure size 432x288 with 1 Axes>"
      ]
     },
     "metadata": {
      "needs_background": "light"
     },
     "output_type": "display_data"
    }
   ],
   "source": [
    "# Residence type and stroke\n",
    "df_Residence_type=pd.crosstab(df.Residence_type,df.stroke)\n",
    "df_Residence_type.plot(kind='area')\n",
    "plt.show()"
   ]
  },
  {
   "cell_type": "markdown",
   "id": "a2c70a17",
   "metadata": {},
   "source": [
    "No clear relation between residence type and stroke probability"
   ]
  },
  {
   "cell_type": "code",
   "execution_count": 104,
   "id": "e08c3ea9",
   "metadata": {},
   "outputs": [
    {
     "data": {
      "image/png": "[encoded data removed]",
      "text/plain": [
       "<Figure size 432x288 with 1 Axes>"
      ]
     },
     "metadata": {
      "needs_background": "light"
     },
     "output_type": "display_data"
    }
   ],
   "source": [
    "# average glucose level and stroke\n",
    "df_avg_glucose_level=pd.crosstab(df.avg_glucose_level,df.stroke)\n",
    "df_avg_glucose_level.plot(kind='area')\n",
    "plt.show()"
   ]
  },
  {
   "cell_type": "markdown",
   "id": "4b1ffec9",
   "metadata": {},
   "source": [
    "It seems that there is a strong relation between average glucose level and stroke probability"
   ]
  },
  {
   "cell_type": "code",
   "execution_count": 109,
   "id": "67367312",
   "metadata": {},
   "outputs": [
    {
     "data": {
      "image/png": "[encoded data removed]",
      "text/plain": [
       "<Figure size 432x288 with 1 Axes>"
      ]
     },
     "metadata": {
      "needs_background": "light"
     },
     "output_type": "display_data"
    }
   ],
   "source": [
    "# body mass index and stroke\n",
    "df_bmi=pd.crosstab(df.bmi,df.stroke)\n",
    "df_bmi.plot(kind='area')\n",
    "plt.show()"
   ]
  },
  {
   "cell_type": "markdown",
   "id": "210ddf87",
   "metadata": {},
   "source": [
    "Because we replace null values with mode of bmi we can see the increasing at the mode point only so we can ignore it so we can't find a clear relation between stroke probability and body mass."
   ]
  },
  {
   "cell_type": "code",
   "execution_count": 110,
   "id": "d4a44e15",
   "metadata": {},
   "outputs": [
    {
     "data": {
      "image/png": "[encoded data removed]",
      "text/plain": [
       "<Figure size 432x288 with 1 Axes>"
      ]
     },
     "metadata": {
      "needs_background": "light"
     },
     "output_type": "display_data"
    }
   ],
   "source": [
    "# smoking status and stroke\n",
    "df_smoking_status=pd.crosstab(df.smoking_status,df.stroke)\n",
    "df_smoking_status.plot(kind='area')\n",
    "plt.show()"
   ]
  },
  {
   "cell_type": "markdown",
   "id": "31443581",
   "metadata": {},
   "source": [
    "From the plot above it looks there is no relation between stroke probability and smoking status"
   ]
  },
  {
   "cell_type": "markdown",
   "id": "f1b3b82f",
   "metadata": {},
   "source": [
    "As a result only three features (age,average glucose level, and body mass index) have relation with stroke probability"
   ]
  },
  {
   "cell_type": "code",
   "execution_count": 111,
   "id": "2e8c78ed",
   "metadata": {},
   "outputs": [
    {
     "data": {
      "image/png": "[encoded data removed]",
      "text/plain": [
       "<Figure size 360x360 with 1 Axes>"
      ]
     },
     "metadata": {
      "needs_background": "light"
     },
     "output_type": "display_data"
    }
   ],
   "source": [
    "plt.figure(figsize=(5,5))\n",
    "m= df['stroke']\n",
    "sns.countplot(x=m)\n",
    "plt.title(\"Stroke\", size=15)\n",
    "plt.show()"
   ]
  },
  {
   "cell_type": "markdown",
   "id": "8c20db3a",
   "metadata": {},
   "source": [
    "As we see the dataset is an imbalanced we have to deal with imbalanced later"
   ]
  },
  {
   "cell_type": "code",
   "execution_count": 112,
   "id": "b70a6906",
   "metadata": {},
   "outputs": [
    {
     "data": {
      "text/html": [
       "<div>\n",
       "<style scoped>\n",
       "    .dataframe tbody tr th:only-of-type {\n",
       "        vertical-align: middle;\n",
       "    }\n",
       "\n",
       "    .dataframe tbody tr th {\n",
       "        vertical-align: top;\n",
       "    }\n",
       "\n",
       "    .dataframe thead th {\n",
       "        text-align: right;\n",
       "    }\n",
       "</style>\n",
       "<table border=\"1\" class=\"dataframe\">\n",
       "  <thead>\n",
       "    <tr style=\"text-align: right;\">\n",
       "      <th></th>\n",
       "      <th>gender</th>\n",
       "      <th>age</th>\n",
       "      <th>hypertension</th>\n",
       "      <th>heart_disease</th>\n",
       "      <th>ever_married</th>\n",
       "      <th>work_type</th>\n",
       "      <th>Residence_type</th>\n",
       "      <th>avg_glucose_level</th>\n",
       "      <th>bmi</th>\n",
       "      <th>smoking_status</th>\n",
       "      <th>stroke</th>\n",
       "    </tr>\n",
       "  </thead>\n",
       "  <tbody>\n",
       "    <tr>\n",
       "      <th>0</th>\n",
       "      <td>Male</td>\n",
       "      <td>67.0</td>\n",
       "      <td>0</td>\n",
       "      <td>1</td>\n",
       "      <td>Yes</td>\n",
       "      <td>Private</td>\n",
       "      <td>Urban</td>\n",
       "      <td>228.69</td>\n",
       "      <td>36.600000</td>\n",
       "      <td>formerly smoked</td>\n",
       "      <td>1</td>\n",
       "    </tr>\n",
       "    <tr>\n",
       "      <th>1</th>\n",
       "      <td>Female</td>\n",
       "      <td>61.0</td>\n",
       "      <td>0</td>\n",
       "      <td>0</td>\n",
       "      <td>Yes</td>\n",
       "      <td>Self-employed</td>\n",
       "      <td>Rural</td>\n",
       "      <td>202.21</td>\n",
       "      <td>28.893237</td>\n",
       "      <td>never smoked</td>\n",
       "      <td>1</td>\n",
       "    </tr>\n",
       "    <tr>\n",
       "      <th>2</th>\n",
       "      <td>Male</td>\n",
       "      <td>80.0</td>\n",
       "      <td>0</td>\n",
       "      <td>1</td>\n",
       "      <td>Yes</td>\n",
       "      <td>Private</td>\n",
       "      <td>Rural</td>\n",
       "      <td>105.92</td>\n",
       "      <td>32.500000</td>\n",
       "      <td>never smoked</td>\n",
       "      <td>1</td>\n",
       "    </tr>\n",
       "    <tr>\n",
       "      <th>3</th>\n",
       "      <td>Female</td>\n",
       "      <td>49.0</td>\n",
       "      <td>0</td>\n",
       "      <td>0</td>\n",
       "      <td>Yes</td>\n",
       "      <td>Private</td>\n",
       "      <td>Urban</td>\n",
       "      <td>171.23</td>\n",
       "      <td>34.400000</td>\n",
       "      <td>smokes</td>\n",
       "      <td>1</td>\n",
       "    </tr>\n",
       "    <tr>\n",
       "      <th>4</th>\n",
       "      <td>Female</td>\n",
       "      <td>79.0</td>\n",
       "      <td>1</td>\n",
       "      <td>0</td>\n",
       "      <td>Yes</td>\n",
       "      <td>Self-employed</td>\n",
       "      <td>Rural</td>\n",
       "      <td>174.12</td>\n",
       "      <td>24.000000</td>\n",
       "      <td>never smoked</td>\n",
       "      <td>1</td>\n",
       "    </tr>\n",
       "  </tbody>\n",
       "</table>\n",
       "</div>"
      ],
      "text/plain": [
       "   gender   age  hypertension  heart_disease ever_married      work_type  \\\n",
       "0    Male  67.0             0              1          Yes        Private   \n",
       "1  Female  61.0             0              0          Yes  Self-employed   \n",
       "2    Male  80.0             0              1          Yes        Private   \n",
       "3  Female  49.0             0              0          Yes        Private   \n",
       "4  Female  79.0             1              0          Yes  Self-employed   \n",
       "\n",
       "  Residence_type  avg_glucose_level        bmi   smoking_status  stroke  \n",
       "0          Urban             228.69  36.600000  formerly smoked       1  \n",
       "1          Rural             202.21  28.893237     never smoked       1  \n",
       "2          Rural             105.92  32.500000     never smoked       1  \n",
       "3          Urban             171.23  34.400000           smokes       1  \n",
       "4          Rural             174.12  24.000000     never smoked       1  "
      ]
     },
     "execution_count": 112,
     "metadata": {},
     "output_type": "execute_result"
    }
   ],
   "source": [
    "df.head()"
   ]
  },
  {
   "cell_type": "code",
   "execution_count": 113,
   "id": "59787746",
   "metadata": {},
   "outputs": [
    {
     "data": {
      "text/html": [
       "<div>\n",
       "<style scoped>\n",
       "    .dataframe tbody tr th:only-of-type {\n",
       "        vertical-align: middle;\n",
       "    }\n",
       "\n",
       "    .dataframe tbody tr th {\n",
       "        vertical-align: top;\n",
       "    }\n",
       "\n",
       "    .dataframe thead th {\n",
       "        text-align: right;\n",
       "    }\n",
       "</style>\n",
       "<table border=\"1\" class=\"dataframe\">\n",
       "  <thead>\n",
       "    <tr style=\"text-align: right;\">\n",
       "      <th></th>\n",
       "      <th>count</th>\n",
       "      <th>mean</th>\n",
       "      <th>std</th>\n",
       "      <th>min</th>\n",
       "      <th>25%</th>\n",
       "      <th>50%</th>\n",
       "      <th>75%</th>\n",
       "      <th>max</th>\n",
       "    </tr>\n",
       "  </thead>\n",
       "  <tbody>\n",
       "    <tr>\n",
       "      <th>age</th>\n",
       "      <td>5110.0</td>\n",
       "      <td>43.226614</td>\n",
       "      <td>22.612647</td>\n",
       "      <td>0.08</td>\n",
       "      <td>25.000</td>\n",
       "      <td>45.000</td>\n",
       "      <td>61.00</td>\n",
       "      <td>82.00</td>\n",
       "    </tr>\n",
       "    <tr>\n",
       "      <th>hypertension</th>\n",
       "      <td>5110.0</td>\n",
       "      <td>0.097456</td>\n",
       "      <td>0.296607</td>\n",
       "      <td>0.00</td>\n",
       "      <td>0.000</td>\n",
       "      <td>0.000</td>\n",
       "      <td>0.00</td>\n",
       "      <td>1.00</td>\n",
       "    </tr>\n",
       "    <tr>\n",
       "      <th>heart_disease</th>\n",
       "      <td>5110.0</td>\n",
       "      <td>0.054012</td>\n",
       "      <td>0.226063</td>\n",
       "      <td>0.00</td>\n",
       "      <td>0.000</td>\n",
       "      <td>0.000</td>\n",
       "      <td>0.00</td>\n",
       "      <td>1.00</td>\n",
       "    </tr>\n",
       "    <tr>\n",
       "      <th>avg_glucose_level</th>\n",
       "      <td>5110.0</td>\n",
       "      <td>106.147677</td>\n",
       "      <td>45.283560</td>\n",
       "      <td>55.12</td>\n",
       "      <td>77.245</td>\n",
       "      <td>91.885</td>\n",
       "      <td>114.09</td>\n",
       "      <td>271.74</td>\n",
       "    </tr>\n",
       "    <tr>\n",
       "      <th>bmi</th>\n",
       "      <td>5110.0</td>\n",
       "      <td>28.893237</td>\n",
       "      <td>7.698018</td>\n",
       "      <td>10.30</td>\n",
       "      <td>23.800</td>\n",
       "      <td>28.400</td>\n",
       "      <td>32.80</td>\n",
       "      <td>97.60</td>\n",
       "    </tr>\n",
       "    <tr>\n",
       "      <th>stroke</th>\n",
       "      <td>5110.0</td>\n",
       "      <td>0.048728</td>\n",
       "      <td>0.215320</td>\n",
       "      <td>0.00</td>\n",
       "      <td>0.000</td>\n",
       "      <td>0.000</td>\n",
       "      <td>0.00</td>\n",
       "      <td>1.00</td>\n",
       "    </tr>\n",
       "  </tbody>\n",
       "</table>\n",
       "</div>"
      ],
      "text/plain": [
       "                    count        mean        std    min     25%     50%  \\\n",
       "age                5110.0   43.226614  22.612647   0.08  25.000  45.000   \n",
       "hypertension       5110.0    0.097456   0.296607   0.00   0.000   0.000   \n",
       "heart_disease      5110.0    0.054012   0.226063   0.00   0.000   0.000   \n",
       "avg_glucose_level  5110.0  106.147677  45.283560  55.12  77.245  91.885   \n",
       "bmi                5110.0   28.893237   7.698018  10.30  23.800  28.400   \n",
       "stroke             5110.0    0.048728   0.215320   0.00   0.000   0.000   \n",
       "\n",
       "                      75%     max  \n",
       "age                 61.00   82.00  \n",
       "hypertension         0.00    1.00  \n",
       "heart_disease        0.00    1.00  \n",
       "avg_glucose_level  114.09  271.74  \n",
       "bmi                 32.80   97.60  \n",
       "stroke               0.00    1.00  "
      ]
     },
     "execution_count": 113,
     "metadata": {},
     "output_type": "execute_result"
    }
   ],
   "source": [
    "df.describe().T"
   ]
  },
  {
   "cell_type": "code",
   "execution_count": 114,
   "id": "8e48f8b0",
   "metadata": {},
   "outputs": [
    {
     "data": {
      "text/html": [
       "<div>\n",
       "<style scoped>\n",
       "    .dataframe tbody tr th:only-of-type {\n",
       "        vertical-align: middle;\n",
       "    }\n",
       "\n",
       "    .dataframe tbody tr th {\n",
       "        vertical-align: top;\n",
       "    }\n",
       "\n",
       "    .dataframe thead th {\n",
       "        text-align: right;\n",
       "    }\n",
       "</style>\n",
       "<table border=\"1\" class=\"dataframe\">\n",
       "  <thead>\n",
       "    <tr style=\"text-align: right;\">\n",
       "      <th></th>\n",
       "      <th>age</th>\n",
       "      <th>hypertension</th>\n",
       "      <th>heart_disease</th>\n",
       "      <th>avg_glucose_level</th>\n",
       "      <th>bmi</th>\n",
       "      <th>stroke</th>\n",
       "    </tr>\n",
       "  </thead>\n",
       "  <tbody>\n",
       "    <tr>\n",
       "      <th>0</th>\n",
       "      <td>67.0</td>\n",
       "      <td>0</td>\n",
       "      <td>1</td>\n",
       "      <td>228.69</td>\n",
       "      <td>36.600000</td>\n",
       "      <td>1</td>\n",
       "    </tr>\n",
       "    <tr>\n",
       "      <th>1</th>\n",
       "      <td>61.0</td>\n",
       "      <td>0</td>\n",
       "      <td>0</td>\n",
       "      <td>202.21</td>\n",
       "      <td>28.893237</td>\n",
       "      <td>1</td>\n",
       "    </tr>\n",
       "    <tr>\n",
       "      <th>2</th>\n",
       "      <td>80.0</td>\n",
       "      <td>0</td>\n",
       "      <td>1</td>\n",
       "      <td>105.92</td>\n",
       "      <td>32.500000</td>\n",
       "      <td>1</td>\n",
       "    </tr>\n",
       "    <tr>\n",
       "      <th>3</th>\n",
       "      <td>49.0</td>\n",
       "      <td>0</td>\n",
       "      <td>0</td>\n",
       "      <td>171.23</td>\n",
       "      <td>34.400000</td>\n",
       "      <td>1</td>\n",
       "    </tr>\n",
       "    <tr>\n",
       "      <th>4</th>\n",
       "      <td>79.0</td>\n",
       "      <td>1</td>\n",
       "      <td>0</td>\n",
       "      <td>174.12</td>\n",
       "      <td>24.000000</td>\n",
       "      <td>1</td>\n",
       "    </tr>\n",
       "    <tr>\n",
       "      <th>...</th>\n",
       "      <td>...</td>\n",
       "      <td>...</td>\n",
       "      <td>...</td>\n",
       "      <td>...</td>\n",
       "      <td>...</td>\n",
       "      <td>...</td>\n",
       "    </tr>\n",
       "    <tr>\n",
       "      <th>5105</th>\n",
       "      <td>80.0</td>\n",
       "      <td>1</td>\n",
       "      <td>0</td>\n",
       "      <td>83.75</td>\n",
       "      <td>28.893237</td>\n",
       "      <td>0</td>\n",
       "    </tr>\n",
       "    <tr>\n",
       "      <th>5106</th>\n",
       "      <td>81.0</td>\n",
       "      <td>0</td>\n",
       "      <td>0</td>\n",
       "      <td>125.20</td>\n",
       "      <td>40.000000</td>\n",
       "      <td>0</td>\n",
       "    </tr>\n",
       "    <tr>\n",
       "      <th>5107</th>\n",
       "      <td>35.0</td>\n",
       "      <td>0</td>\n",
       "      <td>0</td>\n",
       "      <td>82.99</td>\n",
       "      <td>30.600000</td>\n",
       "      <td>0</td>\n",
       "    </tr>\n",
       "    <tr>\n",
       "      <th>5108</th>\n",
       "      <td>51.0</td>\n",
       "      <td>0</td>\n",
       "      <td>0</td>\n",
       "      <td>166.29</td>\n",
       "      <td>25.600000</td>\n",
       "      <td>0</td>\n",
       "    </tr>\n",
       "    <tr>\n",
       "      <th>5109</th>\n",
       "      <td>44.0</td>\n",
       "      <td>0</td>\n",
       "      <td>0</td>\n",
       "      <td>85.28</td>\n",
       "      <td>26.200000</td>\n",
       "      <td>0</td>\n",
       "    </tr>\n",
       "  </tbody>\n",
       "</table>\n",
       "<p>5110 rows × 6 columns</p>\n",
       "</div>"
      ],
      "text/plain": [
       "       age  hypertension  heart_disease  avg_glucose_level        bmi  stroke\n",
       "0     67.0             0              1             228.69  36.600000       1\n",
       "1     61.0             0              0             202.21  28.893237       1\n",
       "2     80.0             0              1             105.92  32.500000       1\n",
       "3     49.0             0              0             171.23  34.400000       1\n",
       "4     79.0             1              0             174.12  24.000000       1\n",
       "...    ...           ...            ...                ...        ...     ...\n",
       "5105  80.0             1              0              83.75  28.893237       0\n",
       "5106  81.0             0              0             125.20  40.000000       0\n",
       "5107  35.0             0              0              82.99  30.600000       0\n",
       "5108  51.0             0              0             166.29  25.600000       0\n",
       "5109  44.0             0              0              85.28  26.200000       0\n",
       "\n",
       "[5110 rows x 6 columns]"
      ]
     },
     "execution_count": 114,
     "metadata": {},
     "output_type": "execute_result"
    }
   ],
   "source": [
    "num_cols=df.select_dtypes(include=['int64','float64'])\n",
    "num_cols"
   ]
  },
  {
   "cell_type": "code",
   "execution_count": 115,
   "id": "3d8f277a",
   "metadata": {},
   "outputs": [
    {
     "data": {
      "text/html": [
       "<div>\n",
       "<style scoped>\n",
       "    .dataframe tbody tr th:only-of-type {\n",
       "        vertical-align: middle;\n",
       "    }\n",
       "\n",
       "    .dataframe tbody tr th {\n",
       "        vertical-align: top;\n",
       "    }\n",
       "\n",
       "    .dataframe thead th {\n",
       "        text-align: right;\n",
       "    }\n",
       "</style>\n",
       "<table border=\"1\" class=\"dataframe\">\n",
       "  <thead>\n",
       "    <tr style=\"text-align: right;\">\n",
       "      <th></th>\n",
       "      <th>gender</th>\n",
       "      <th>ever_married</th>\n",
       "      <th>work_type</th>\n",
       "      <th>Residence_type</th>\n",
       "      <th>smoking_status</th>\n",
       "    </tr>\n",
       "  </thead>\n",
       "  <tbody>\n",
       "    <tr>\n",
       "      <th>0</th>\n",
       "      <td>Male</td>\n",
       "      <td>Yes</td>\n",
       "      <td>Private</td>\n",
       "      <td>Urban</td>\n",
       "      <td>formerly smoked</td>\n",
       "    </tr>\n",
       "    <tr>\n",
       "      <th>1</th>\n",
       "      <td>Female</td>\n",
       "      <td>Yes</td>\n",
       "      <td>Self-employed</td>\n",
       "      <td>Rural</td>\n",
       "      <td>never smoked</td>\n",
       "    </tr>\n",
       "    <tr>\n",
       "      <th>2</th>\n",
       "      <td>Male</td>\n",
       "      <td>Yes</td>\n",
       "      <td>Private</td>\n",
       "      <td>Rural</td>\n",
       "      <td>never smoked</td>\n",
       "    </tr>\n",
       "    <tr>\n",
       "      <th>3</th>\n",
       "      <td>Female</td>\n",
       "      <td>Yes</td>\n",
       "      <td>Private</td>\n",
       "      <td>Urban</td>\n",
       "      <td>smokes</td>\n",
       "    </tr>\n",
       "    <tr>\n",
       "      <th>4</th>\n",
       "      <td>Female</td>\n",
       "      <td>Yes</td>\n",
       "      <td>Self-employed</td>\n",
       "      <td>Rural</td>\n",
       "      <td>never smoked</td>\n",
       "    </tr>\n",
       "    <tr>\n",
       "      <th>...</th>\n",
       "      <td>...</td>\n",
       "      <td>...</td>\n",
       "      <td>...</td>\n",
       "      <td>...</td>\n",
       "      <td>...</td>\n",
       "    </tr>\n",
       "    <tr>\n",
       "      <th>5105</th>\n",
       "      <td>Female</td>\n",
       "      <td>Yes</td>\n",
       "      <td>Private</td>\n",
       "      <td>Urban</td>\n",
       "      <td>never smoked</td>\n",
       "    </tr>\n",
       "    <tr>\n",
       "      <th>5106</th>\n",
       "      <td>Female</td>\n",
       "      <td>Yes</td>\n",
       "      <td>Self-employed</td>\n",
       "      <td>Urban</td>\n",
       "      <td>never smoked</td>\n",
       "    </tr>\n",
       "    <tr>\n",
       "      <th>5107</th>\n",
       "      <td>Female</td>\n",
       "      <td>Yes</td>\n",
       "      <td>Self-employed</td>\n",
       "      <td>Rural</td>\n",
       "      <td>never smoked</td>\n",
       "    </tr>\n",
       "    <tr>\n",
       "      <th>5108</th>\n",
       "      <td>Male</td>\n",
       "      <td>Yes</td>\n",
       "      <td>Private</td>\n",
       "      <td>Rural</td>\n",
       "      <td>formerly smoked</td>\n",
       "    </tr>\n",
       "    <tr>\n",
       "      <th>5109</th>\n",
       "      <td>Female</td>\n",
       "      <td>Yes</td>\n",
       "      <td>Govt_job</td>\n",
       "      <td>Urban</td>\n",
       "      <td>never smoked</td>\n",
       "    </tr>\n",
       "  </tbody>\n",
       "</table>\n",
       "<p>5110 rows × 5 columns</p>\n",
       "</div>"
      ],
      "text/plain": [
       "      gender ever_married      work_type Residence_type   smoking_status\n",
       "0       Male          Yes        Private          Urban  formerly smoked\n",
       "1     Female          Yes  Self-employed          Rural     never smoked\n",
       "2       Male          Yes        Private          Rural     never smoked\n",
       "3     Female          Yes        Private          Urban           smokes\n",
       "4     Female          Yes  Self-employed          Rural     never smoked\n",
       "...      ...          ...            ...            ...              ...\n",
       "5105  Female          Yes        Private          Urban     never smoked\n",
       "5106  Female          Yes  Self-employed          Urban     never smoked\n",
       "5107  Female          Yes  Self-employed          Rural     never smoked\n",
       "5108    Male          Yes        Private          Rural  formerly smoked\n",
       "5109  Female          Yes       Govt_job          Urban     never smoked\n",
       "\n",
       "[5110 rows x 5 columns]"
      ]
     },
     "execution_count": 115,
     "metadata": {},
     "output_type": "execute_result"
    }
   ],
   "source": [
    "df.select_dtypes(exclude=['int64','float64'])"
   ]
  },
  {
   "cell_type": "code",
   "execution_count": 116,
   "id": "1434a1fe",
   "metadata": {},
   "outputs": [
    {
     "data": {
      "text/html": [
       "<div>\n",
       "<style scoped>\n",
       "    .dataframe tbody tr th:only-of-type {\n",
       "        vertical-align: middle;\n",
       "    }\n",
       "\n",
       "    .dataframe tbody tr th {\n",
       "        vertical-align: top;\n",
       "    }\n",
       "\n",
       "    .dataframe thead th {\n",
       "        text-align: right;\n",
       "    }\n",
       "</style>\n",
       "<table border=\"1\" class=\"dataframe\">\n",
       "  <thead>\n",
       "    <tr style=\"text-align: right;\">\n",
       "      <th></th>\n",
       "      <th>gender</th>\n",
       "      <th>age</th>\n",
       "      <th>hypertension</th>\n",
       "      <th>heart_disease</th>\n",
       "      <th>ever_married</th>\n",
       "      <th>work_type</th>\n",
       "      <th>Residence_type</th>\n",
       "      <th>avg_glucose_level</th>\n",
       "      <th>bmi</th>\n",
       "      <th>smoking_status</th>\n",
       "      <th>stroke</th>\n",
       "    </tr>\n",
       "  </thead>\n",
       "  <tbody>\n",
       "    <tr>\n",
       "      <th>0</th>\n",
       "      <td>1</td>\n",
       "      <td>67.0</td>\n",
       "      <td>0</td>\n",
       "      <td>1</td>\n",
       "      <td>1</td>\n",
       "      <td>2</td>\n",
       "      <td>1</td>\n",
       "      <td>228.69</td>\n",
       "      <td>36.600000</td>\n",
       "      <td>0</td>\n",
       "      <td>1</td>\n",
       "    </tr>\n",
       "    <tr>\n",
       "      <th>1</th>\n",
       "      <td>0</td>\n",
       "      <td>61.0</td>\n",
       "      <td>0</td>\n",
       "      <td>0</td>\n",
       "      <td>1</td>\n",
       "      <td>3</td>\n",
       "      <td>0</td>\n",
       "      <td>202.21</td>\n",
       "      <td>28.893237</td>\n",
       "      <td>1</td>\n",
       "      <td>1</td>\n",
       "    </tr>\n",
       "    <tr>\n",
       "      <th>2</th>\n",
       "      <td>1</td>\n",
       "      <td>80.0</td>\n",
       "      <td>0</td>\n",
       "      <td>1</td>\n",
       "      <td>1</td>\n",
       "      <td>2</td>\n",
       "      <td>0</td>\n",
       "      <td>105.92</td>\n",
       "      <td>32.500000</td>\n",
       "      <td>1</td>\n",
       "      <td>1</td>\n",
       "    </tr>\n",
       "    <tr>\n",
       "      <th>3</th>\n",
       "      <td>0</td>\n",
       "      <td>49.0</td>\n",
       "      <td>0</td>\n",
       "      <td>0</td>\n",
       "      <td>1</td>\n",
       "      <td>2</td>\n",
       "      <td>1</td>\n",
       "      <td>171.23</td>\n",
       "      <td>34.400000</td>\n",
       "      <td>2</td>\n",
       "      <td>1</td>\n",
       "    </tr>\n",
       "    <tr>\n",
       "      <th>4</th>\n",
       "      <td>0</td>\n",
       "      <td>79.0</td>\n",
       "      <td>1</td>\n",
       "      <td>0</td>\n",
       "      <td>1</td>\n",
       "      <td>3</td>\n",
       "      <td>0</td>\n",
       "      <td>174.12</td>\n",
       "      <td>24.000000</td>\n",
       "      <td>1</td>\n",
       "      <td>1</td>\n",
       "    </tr>\n",
       "  </tbody>\n",
       "</table>\n",
       "</div>"
      ],
      "text/plain": [
       "   gender   age  hypertension  heart_disease  ever_married  work_type  \\\n",
       "0       1  67.0             0              1             1          2   \n",
       "1       0  61.0             0              0             1          3   \n",
       "2       1  80.0             0              1             1          2   \n",
       "3       0  49.0             0              0             1          2   \n",
       "4       0  79.0             1              0             1          3   \n",
       "\n",
       "   Residence_type  avg_glucose_level        bmi  smoking_status  stroke  \n",
       "0               1             228.69  36.600000               0       1  \n",
       "1               0             202.21  28.893237               1       1  \n",
       "2               0             105.92  32.500000               1       1  \n",
       "3               1             171.23  34.400000               2       1  \n",
       "4               0             174.12  24.000000               1       1  "
      ]
     },
     "execution_count": 116,
     "metadata": {},
     "output_type": "execute_result"
    }
   ],
   "source": [
    "# convert categorical variables to numbers \n",
    "from sklearn.preprocessing import LabelEncoder\n",
    "le = LabelEncoder()\n",
    "\n",
    "df['gender'] = le.fit_transform(df['gender'])\n",
    "df['ever_married'] = le.fit_transform(df['ever_married'])\n",
    "df['work_type'] = le.fit_transform(df['work_type'])\n",
    "df['Residence_type'] = le.fit_transform(df['Residence_type'])\n",
    "df['smoking_status'] = le.fit_transform(df['smoking_status'])\n",
    "\n",
    "df_en = df\n",
    "df_en.head()"
   ]
  },
  {
   "cell_type": "code",
   "execution_count": 117,
   "id": "c0968bd7",
   "metadata": {},
   "outputs": [
    {
     "name": "stdout",
     "output_type": "stream",
     "text": [
      "<class 'pandas.core.frame.DataFrame'>\n",
      "RangeIndex: 5110 entries, 0 to 5109\n",
      "Data columns (total 11 columns):\n",
      " #   Column             Non-Null Count  Dtype  \n",
      "---  ------             --------------  -----  \n",
      " 0   gender             5110 non-null   int32  \n",
      " 1   age                5110 non-null   float64\n",
      " 2   hypertension       5110 non-null   int64  \n",
      " 3   heart_disease      5110 non-null   int64  \n",
      " 4   ever_married       5110 non-null   int32  \n",
      " 5   work_type          5110 non-null   int32  \n",
      " 6   Residence_type     5110 non-null   int32  \n",
      " 7   avg_glucose_level  5110 non-null   float64\n",
      " 8   bmi                5110 non-null   float64\n",
      " 9   smoking_status     5110 non-null   int32  \n",
      " 10  stroke             5110 non-null   int64  \n",
      "dtypes: float64(3), int32(5), int64(3)\n",
      "memory usage: 339.5 KB\n"
     ]
    }
   ],
   "source": [
    "df.info()"
   ]
  },
  {
   "cell_type": "code",
   "execution_count": 118,
   "id": "2a4b08ad",
   "metadata": {},
   "outputs": [
    {
     "data": {
      "image/png": "[encoded data removed]",
      "text/plain": [
       "<Figure size 720x504 with 2 Axes>"
      ]
     },
     "metadata": {
      "needs_background": "light"
     },
     "output_type": "display_data"
    }
   ],
   "source": [
    "# Correlation of values with each other again\n",
    "corr = df_en.corr().round(2)\n",
    "plt.figure(figsize=(10,7))\n",
    "sns.heatmap(corr, annot = True);"
   ]
  },
  {
   "cell_type": "markdown",
   "id": "53c13d3d",
   "metadata": {},
   "source": [
    "From the corelation map we can notice that avg_glucose_level, heart_disease, hypertension, and age could affect the stroke probability"
   ]
  },
  {
   "cell_type": "code",
   "execution_count": 119,
   "id": "7a52abcb",
   "metadata": {},
   "outputs": [
    {
     "data": {
      "text/html": [
       "<div>\n",
       "<style scoped>\n",
       "    .dataframe tbody tr th:only-of-type {\n",
       "        vertical-align: middle;\n",
       "    }\n",
       "\n",
       "    .dataframe tbody tr th {\n",
       "        vertical-align: top;\n",
       "    }\n",
       "\n",
       "    .dataframe thead th {\n",
       "        text-align: right;\n",
       "    }\n",
       "</style>\n",
       "<table border=\"1\" class=\"dataframe\">\n",
       "  <thead>\n",
       "    <tr style=\"text-align: right;\">\n",
       "      <th></th>\n",
       "      <th>avg_glucose_level</th>\n",
       "      <th>bmi</th>\n",
       "      <th>age</th>\n",
       "    </tr>\n",
       "  </thead>\n",
       "  <tbody>\n",
       "    <tr>\n",
       "      <th>0</th>\n",
       "      <td>2.706375</td>\n",
       "      <td>1.001234e+00</td>\n",
       "      <td>1.051434</td>\n",
       "    </tr>\n",
       "    <tr>\n",
       "      <th>1</th>\n",
       "      <td>2.121559</td>\n",
       "      <td>1.384666e-15</td>\n",
       "      <td>0.786070</td>\n",
       "    </tr>\n",
       "    <tr>\n",
       "      <th>2</th>\n",
       "      <td>-0.005028</td>\n",
       "      <td>4.685773e-01</td>\n",
       "      <td>1.626390</td>\n",
       "    </tr>\n",
       "    <tr>\n",
       "      <th>3</th>\n",
       "      <td>1.437358</td>\n",
       "      <td>7.154182e-01</td>\n",
       "      <td>0.255342</td>\n",
       "    </tr>\n",
       "    <tr>\n",
       "      <th>4</th>\n",
       "      <td>1.501184</td>\n",
       "      <td>-6.357112e-01</td>\n",
       "      <td>1.582163</td>\n",
       "    </tr>\n",
       "  </tbody>\n",
       "</table>\n",
       "</div>"
      ],
      "text/plain": [
       "   avg_glucose_level           bmi       age\n",
       "0           2.706375  1.001234e+00  1.051434\n",
       "1           2.121559  1.384666e-15  0.786070\n",
       "2          -0.005028  4.685773e-01  1.626390\n",
       "3           1.437358  7.154182e-01  0.255342\n",
       "4           1.501184 -6.357112e-01  1.582163"
      ]
     },
     "execution_count": 119,
     "metadata": {},
     "output_type": "execute_result"
    }
   ],
   "source": [
    "# scale 'avg_glucose_level','bmi',and 'age'\n",
    "from sklearn.preprocessing import StandardScaler\n",
    "s = StandardScaler()\n",
    "columns = ['avg_glucose_level','bmi','age']\n",
    "stand_scaled = s.fit_transform(df_en[['avg_glucose_level','bmi','age']])\n",
    "stand_scaled = pd.DataFrame(stand_scaled,columns=columns)\n",
    "# drop 'avg_glucose_level','bmi',and 'age' from the dataset\n",
    "df_en=df_en.drop(columns=columns,axis=1)\n",
    "stand_scaled.head()"
   ]
  },
  {
   "cell_type": "code",
   "execution_count": 120,
   "id": "ce04f02b",
   "metadata": {},
   "outputs": [
    {
     "data": {
      "text/html": [
       "<div>\n",
       "<style scoped>\n",
       "    .dataframe tbody tr th:only-of-type {\n",
       "        vertical-align: middle;\n",
       "    }\n",
       "\n",
       "    .dataframe tbody tr th {\n",
       "        vertical-align: top;\n",
       "    }\n",
       "\n",
       "    .dataframe thead th {\n",
       "        text-align: right;\n",
       "    }\n",
       "</style>\n",
       "<table border=\"1\" class=\"dataframe\">\n",
       "  <thead>\n",
       "    <tr style=\"text-align: right;\">\n",
       "      <th></th>\n",
       "      <th>gender</th>\n",
       "      <th>hypertension</th>\n",
       "      <th>heart_disease</th>\n",
       "      <th>ever_married</th>\n",
       "      <th>work_type</th>\n",
       "      <th>Residence_type</th>\n",
       "      <th>smoking_status</th>\n",
       "      <th>stroke</th>\n",
       "      <th>avg_glucose_level</th>\n",
       "      <th>bmi</th>\n",
       "      <th>age</th>\n",
       "    </tr>\n",
       "  </thead>\n",
       "  <tbody>\n",
       "    <tr>\n",
       "      <th>0</th>\n",
       "      <td>1</td>\n",
       "      <td>0</td>\n",
       "      <td>1</td>\n",
       "      <td>1</td>\n",
       "      <td>2</td>\n",
       "      <td>1</td>\n",
       "      <td>0</td>\n",
       "      <td>1</td>\n",
       "      <td>2.706375</td>\n",
       "      <td>1.001234e+00</td>\n",
       "      <td>1.051434</td>\n",
       "    </tr>\n",
       "    <tr>\n",
       "      <th>1</th>\n",
       "      <td>0</td>\n",
       "      <td>0</td>\n",
       "      <td>0</td>\n",
       "      <td>1</td>\n",
       "      <td>3</td>\n",
       "      <td>0</td>\n",
       "      <td>1</td>\n",
       "      <td>1</td>\n",
       "      <td>2.121559</td>\n",
       "      <td>1.384666e-15</td>\n",
       "      <td>0.786070</td>\n",
       "    </tr>\n",
       "    <tr>\n",
       "      <th>2</th>\n",
       "      <td>1</td>\n",
       "      <td>0</td>\n",
       "      <td>1</td>\n",
       "      <td>1</td>\n",
       "      <td>2</td>\n",
       "      <td>0</td>\n",
       "      <td>1</td>\n",
       "      <td>1</td>\n",
       "      <td>-0.005028</td>\n",
       "      <td>4.685773e-01</td>\n",
       "      <td>1.626390</td>\n",
       "    </tr>\n",
       "  </tbody>\n",
       "</table>\n",
       "</div>"
      ],
      "text/plain": [
       "   gender  hypertension  heart_disease  ever_married  work_type  \\\n",
       "0       1             0              1             1          2   \n",
       "1       0             0              0             1          3   \n",
       "2       1             0              1             1          2   \n",
       "\n",
       "   Residence_type  smoking_status  stroke  avg_glucose_level           bmi  \\\n",
       "0               1               0       1           2.706375  1.001234e+00   \n",
       "1               0               1       1           2.121559  1.384666e-15   \n",
       "2               0               1       1          -0.005028  4.685773e-01   \n",
       "\n",
       "        age  \n",
       "0  1.051434  \n",
       "1  0.786070  \n",
       "2  1.626390  "
      ]
     },
     "execution_count": 120,
     "metadata": {},
     "output_type": "execute_result"
    }
   ],
   "source": [
    "# Insert new 'avg_glucose_level','bmi',and 'age' to the dataset\n",
    "df = pd.concat([df_en, stand_scaled], axis=1)\n",
    "df.head(3)"
   ]
  },
  {
   "cell_type": "markdown",
   "id": "6352158b",
   "metadata": {},
   "source": [
    "# Modeling"
   ]
  },
  {
   "cell_type": "code",
   "execution_count": 122,
   "id": "6a9e15aa",
   "metadata": {},
   "outputs": [],
   "source": [
    "# set X variables which is all columns eccept storke column and y as a target data\n",
    "y = df[\"stroke\"]\n",
    "X = df.drop([\"stroke\"], axis=1)"
   ]
  },
  {
   "cell_type": "code",
   "execution_count": 123,
   "id": "74a53023",
   "metadata": {},
   "outputs": [
    {
     "data": {
      "text/plain": [
       "0       1\n",
       "1       1\n",
       "2       1\n",
       "3       1\n",
       "4       1\n",
       "       ..\n",
       "5105    0\n",
       "5106    0\n",
       "5107    0\n",
       "5108    0\n",
       "5109    0\n",
       "Name: stroke, Length: 5110, dtype: int64"
      ]
     },
     "execution_count": 123,
     "metadata": {},
     "output_type": "execute_result"
    }
   ],
   "source": [
    "y"
   ]
  },
  {
   "cell_type": "code",
   "execution_count": 124,
   "id": "e651e9e5",
   "metadata": {},
   "outputs": [],
   "source": [
    "y = pd.DataFrame(y, columns=[\"stroke\"])"
   ]
  },
  {
   "cell_type": "code",
   "execution_count": 125,
   "id": "bfd3aa6f",
   "metadata": {},
   "outputs": [
    {
     "data": {
      "text/html": [
       "<div>\n",
       "<style scoped>\n",
       "    .dataframe tbody tr th:only-of-type {\n",
       "        vertical-align: middle;\n",
       "    }\n",
       "\n",
       "    .dataframe tbody tr th {\n",
       "        vertical-align: top;\n",
       "    }\n",
       "\n",
       "    .dataframe thead th {\n",
       "        text-align: right;\n",
       "    }\n",
       "</style>\n",
       "<table border=\"1\" class=\"dataframe\">\n",
       "  <thead>\n",
       "    <tr style=\"text-align: right;\">\n",
       "      <th></th>\n",
       "      <th>gender</th>\n",
       "      <th>hypertension</th>\n",
       "      <th>heart_disease</th>\n",
       "      <th>ever_married</th>\n",
       "      <th>work_type</th>\n",
       "      <th>Residence_type</th>\n",
       "      <th>smoking_status</th>\n",
       "      <th>avg_glucose_level</th>\n",
       "      <th>bmi</th>\n",
       "      <th>age</th>\n",
       "    </tr>\n",
       "  </thead>\n",
       "  <tbody>\n",
       "    <tr>\n",
       "      <th>0</th>\n",
       "      <td>1</td>\n",
       "      <td>0</td>\n",
       "      <td>1</td>\n",
       "      <td>1</td>\n",
       "      <td>2</td>\n",
       "      <td>1</td>\n",
       "      <td>0</td>\n",
       "      <td>2.706375</td>\n",
       "      <td>1.001234e+00</td>\n",
       "      <td>1.051434</td>\n",
       "    </tr>\n",
       "    <tr>\n",
       "      <th>1</th>\n",
       "      <td>0</td>\n",
       "      <td>0</td>\n",
       "      <td>0</td>\n",
       "      <td>1</td>\n",
       "      <td>3</td>\n",
       "      <td>0</td>\n",
       "      <td>1</td>\n",
       "      <td>2.121559</td>\n",
       "      <td>1.384666e-15</td>\n",
       "      <td>0.786070</td>\n",
       "    </tr>\n",
       "    <tr>\n",
       "      <th>2</th>\n",
       "      <td>1</td>\n",
       "      <td>0</td>\n",
       "      <td>1</td>\n",
       "      <td>1</td>\n",
       "      <td>2</td>\n",
       "      <td>0</td>\n",
       "      <td>1</td>\n",
       "      <td>-0.005028</td>\n",
       "      <td>4.685773e-01</td>\n",
       "      <td>1.626390</td>\n",
       "    </tr>\n",
       "    <tr>\n",
       "      <th>3</th>\n",
       "      <td>0</td>\n",
       "      <td>0</td>\n",
       "      <td>0</td>\n",
       "      <td>1</td>\n",
       "      <td>2</td>\n",
       "      <td>1</td>\n",
       "      <td>2</td>\n",
       "      <td>1.437358</td>\n",
       "      <td>7.154182e-01</td>\n",
       "      <td>0.255342</td>\n",
       "    </tr>\n",
       "    <tr>\n",
       "      <th>4</th>\n",
       "      <td>0</td>\n",
       "      <td>1</td>\n",
       "      <td>0</td>\n",
       "      <td>1</td>\n",
       "      <td>3</td>\n",
       "      <td>0</td>\n",
       "      <td>1</td>\n",
       "      <td>1.501184</td>\n",
       "      <td>-6.357112e-01</td>\n",
       "      <td>1.582163</td>\n",
       "    </tr>\n",
       "  </tbody>\n",
       "</table>\n",
       "</div>"
      ],
      "text/plain": [
       "   gender  hypertension  heart_disease  ever_married  work_type  \\\n",
       "0       1             0              1             1          2   \n",
       "1       0             0              0             1          3   \n",
       "2       1             0              1             1          2   \n",
       "3       0             0              0             1          2   \n",
       "4       0             1              0             1          3   \n",
       "\n",
       "   Residence_type  smoking_status  avg_glucose_level           bmi       age  \n",
       "0               1               0           2.706375  1.001234e+00  1.051434  \n",
       "1               0               1           2.121559  1.384666e-15  0.786070  \n",
       "2               0               1          -0.005028  4.685773e-01  1.626390  \n",
       "3               1               2           1.437358  7.154182e-01  0.255342  \n",
       "4               0               1           1.501184 -6.357112e-01  1.582163  "
      ]
     },
     "metadata": {},
     "output_type": "display_data"
    },
    {
     "data": {
      "text/html": [
       "<div>\n",
       "<style scoped>\n",
       "    .dataframe tbody tr th:only-of-type {\n",
       "        vertical-align: middle;\n",
       "    }\n",
       "\n",
       "    .dataframe tbody tr th {\n",
       "        vertical-align: top;\n",
       "    }\n",
       "\n",
       "    .dataframe thead th {\n",
       "        text-align: right;\n",
       "    }\n",
       "</style>\n",
       "<table border=\"1\" class=\"dataframe\">\n",
       "  <thead>\n",
       "    <tr style=\"text-align: right;\">\n",
       "      <th></th>\n",
       "      <th>stroke</th>\n",
       "    </tr>\n",
       "  </thead>\n",
       "  <tbody>\n",
       "    <tr>\n",
       "      <th>0</th>\n",
       "      <td>1</td>\n",
       "    </tr>\n",
       "    <tr>\n",
       "      <th>1</th>\n",
       "      <td>1</td>\n",
       "    </tr>\n",
       "    <tr>\n",
       "      <th>2</th>\n",
       "      <td>1</td>\n",
       "    </tr>\n",
       "    <tr>\n",
       "      <th>3</th>\n",
       "      <td>1</td>\n",
       "    </tr>\n",
       "    <tr>\n",
       "      <th>4</th>\n",
       "      <td>1</td>\n",
       "    </tr>\n",
       "  </tbody>\n",
       "</table>\n",
       "</div>"
      ],
      "text/plain": [
       "   stroke\n",
       "0       1\n",
       "1       1\n",
       "2       1\n",
       "3       1\n",
       "4       1"
      ]
     },
     "metadata": {},
     "output_type": "display_data"
    }
   ],
   "source": [
    "display(X.head())\n",
    "display(y.head())"
   ]
  },
  {
   "cell_type": "code",
   "execution_count": 126,
   "id": "2d672801",
   "metadata": {},
   "outputs": [
    {
     "name": "stdout",
     "output_type": "stream",
     "text": [
      "(5110, 10)\n",
      "(5110, 1)\n"
     ]
    }
   ],
   "source": [
    "print(X.shape)\n",
    "print(y.shape)"
   ]
  },
  {
   "cell_type": "markdown",
   "id": "047d31e4",
   "metadata": {},
   "source": [
    "Splitting Data into Train, Test and Valiidation Datasets"
   ]
  },
  {
   "cell_type": "code",
   "execution_count": 127,
   "id": "aa9b0d6f",
   "metadata": {},
   "outputs": [],
   "source": [
    "from sklearn.model_selection import train_test_split\n",
    "# splting data as 80% for training and 20 for testing\n",
    "X_train, X_test, y_train, y_test = train_test_split(X, y, test_size=0.2, shuffle = True, random_state = 8)\n",
    "# takeing 20% of training data for validation\n",
    "X_train, X_val, y_train, y_val = train_test_split(X_train, y_train, test_size=0.2, random_state= 8) "
   ]
  },
  {
   "cell_type": "code",
   "execution_count": 128,
   "id": "c2f2eafc",
   "metadata": {},
   "outputs": [
    {
     "name": "stdout",
     "output_type": "stream",
     "text": [
      "X_train =  (3270, 10)\n",
      "y_train =  (3270, 1)\n",
      "X_test =  (1022, 10)\n",
      "y_test =  (1022, 1)\n",
      "X_val =  (818, 10)\n",
      "y_val =  (818, 1)\n"
     ]
    }
   ],
   "source": [
    "# chech sizes of traing, testing, and validation sets\n",
    "print('X_train = ',X_train.shape)\n",
    "print('y_train = ',y_train.shape)\n",
    "print('X_test = ',X_test.shape)\n",
    "print('y_test = ',y_test.shape)\n",
    "print('X_val = ',X_val.shape)\n",
    "print('y_val = ',y_val.shape)"
   ]
  },
  {
   "cell_type": "code",
   "execution_count": 129,
   "id": "2f8790d8",
   "metadata": {},
   "outputs": [],
   "source": [
    "# dealing with imbalence data\n",
    "from imblearn.over_sampling import SMOTE \n",
    "sm = SMOTE(random_state=2)\n",
    "X_train2,y_train2 = sm.fit_resample(X_train, y_train)"
   ]
  },
  {
   "cell_type": "code",
   "execution_count": 130,
   "id": "c57ce69d",
   "metadata": {},
   "outputs": [
    {
     "name": "stdout",
     "output_type": "stream",
     "text": [
      "X_train2 =  (6222, 10)\n",
      "y_train2 =  (6222, 1)\n"
     ]
    }
   ],
   "source": [
    "print('X_train2 = ',X_train2.shape)\n",
    "print('y_train2 = ',y_train2.shape)"
   ]
  },
  {
   "cell_type": "code",
   "execution_count": 131,
   "id": "0be2f78d",
   "metadata": {},
   "outputs": [],
   "source": [
    "from sklearn import metrics"
   ]
  },
  {
   "cell_type": "markdown",
   "id": "9f308d56",
   "metadata": {},
   "source": [
    "I will apply Logistic Regression first ...."
   ]
  },
  {
   "cell_type": "code",
   "execution_count": 132,
   "id": "b26c5abb",
   "metadata": {},
   "outputs": [],
   "source": [
    "# Fisrt Model: Logistic Regression\n",
    "from sklearn.linear_model import LogisticRegression\n",
    "lr = LogisticRegression()\n",
    "lr.fit(X_train2, y_train2.values.ravel())\n",
    "lr_pred= lr.predict(X_test)\n",
    "#print('Training Score: ', lr.score(X_train2, y_train2))\n",
    "#print('Test Score: ', lr.score(X_test, y_test))"
   ]
  },
  {
   "cell_type": "code",
   "execution_count": 133,
   "id": "a81ff1cc",
   "metadata": {},
   "outputs": [],
   "source": [
    "# Second Model: Random Forest\n",
    "from sklearn.ensemble import RandomForestClassifier\n",
    "rf = RandomForestClassifier()\n",
    "rf.fit(X_train2, y_train2.values.ravel())\n",
    "rf_pred= rf.predict(X_test)\n",
    "#print('Training Score: ', rf.score(X_train2, y_train2))\n",
    "#print('Test Score: ', rf.score(X_test, y_test))"
   ]
  },
  {
   "cell_type": "code",
   "execution_count": 134,
   "id": "88e904a0",
   "metadata": {},
   "outputs": [],
   "source": [
    "# Third Model: Decision Tree\n",
    "from sklearn.tree import DecisionTreeClassifier\n",
    "dt = DecisionTreeClassifier()\n",
    "dt.fit(X_train2, y_train2)\n",
    "dt_pred= dt.predict(X_test)\n",
    "\n",
    "#print('Training Score: ', dt.score(X_train2, y_train2))\n",
    "#print('Test Score: ', dt.score(X_test, y_test))"
   ]
  },
  {
   "cell_type": "code",
   "execution_count": 135,
   "id": "6962d8dc",
   "metadata": {},
   "outputs": [],
   "source": [
    "# Fourth Model: KNN\n",
    "from sklearn.neighbors import KNeighborsClassifier\n",
    "knn = KNeighborsClassifier(n_neighbors=3)\n",
    "knn.fit(X_train2, y_train2.values.ravel())\n",
    "knn_pred = knn.predict(X_test)\n",
    "\n",
    "#print('Training Score: ', knn.score(X_train2, y_train2))\n",
    "#print('Test Score: ', knn.score(X_test, y_test))"
   ]
  },
  {
   "cell_type": "code",
   "execution_count": 136,
   "id": "6d368125",
   "metadata": {},
   "outputs": [],
   "source": [
    "# Fifth Model: Naive Bayes\n",
    "from sklearn.naive_bayes import GaussianNB\n",
    "nb = GaussianNB()\n",
    "nb.fit(X_train2, y_train2.values.ravel())\n",
    "nb_pred = knn.predict(X_test)\n",
    "\n",
    "#print('Training Score: ', nb.score(X_train2, y_train2))\n",
    "#print('Test Score: ', nb.score(X_test, y_test))"
   ]
  },
  {
   "cell_type": "code",
   "execution_count": 137,
   "id": "c037bd9a",
   "metadata": {},
   "outputs": [],
   "source": [
    "# Sixth Model: KMeans\n",
    "from sklearn.metrics import accuracy_score\n",
    "from sklearn.cluster import KMeans\n",
    "km = KMeans(n_clusters=2, random_state=0)\n",
    "km.fit(X_train2, y_train2)\n",
    "km_pred = km.predict(X_test)"
   ]
  },
  {
   "cell_type": "code",
   "execution_count": 138,
   "id": "14061639",
   "metadata": {},
   "outputs": [
    {
     "name": "stdout",
     "output_type": "stream",
     "text": [
      "Logistic Regression_accuracy score:  0.7465753424657534\n",
      "Random Forest_______accuracy score:  0.8962818003913894\n",
      "Decision Tree_______accuracy score:  0.8747553816046967\n",
      "KNN_________________accuracy score:  0.824853228962818\n",
      "Naive Bayes_________accuracy score:  0.824853228962818\n",
      "KMeans______________accuracy score:  0.1360078277886497\n"
     ]
    }
   ],
   "source": [
    "print('Logistic Regression_accuracy score: ',metrics.accuracy_score(y_test, lr_pred))\n",
    "print('Random Forest_______accuracy score: ',metrics.accuracy_score(y_test, rf_pred))\n",
    "print('Decision Tree_______accuracy score: ',metrics.accuracy_score(y_test, dt_pred))\n",
    "print('KNN_________________accuracy score: ',metrics.accuracy_score(y_test, knn_pred))\n",
    "print('Naive Bayes_________accuracy score: ',metrics.accuracy_score(y_test, nb_pred))\n",
    "print('KMeans______________accuracy score: ',metrics.accuracy_score(y_test, km_pred))"
   ]
  },
  {
   "cell_type": "markdown",
   "id": "0614a8e6",
   "metadata": {},
   "source": [
    "Random Forest has the highest accuracy score"
   ]
  }
 ],
 "metadata": {
  "kernelspec": {
   "display_name": "Python 3",
   "language": "python",
   "name": "python3"
  },
  "language_info": {
   "codemirror_mode": {
    "name": "ipython",
    "version": 3
   },
   "file_extension": ".py",
   "mimetype": "text/x-python",
   "name": "python",
   "nbconvert_exporter": "python",
   "pygments_lexer": "ipython3",
   "version": "3.8.8"
  }
 },
 "nbformat": 4,
 "nbformat_minor": 5
}
